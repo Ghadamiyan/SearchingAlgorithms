{
 "cells": [
  {
   "cell_type": "markdown",
   "id": "3f92bfa7",
   "metadata": {},
   "source": [
    "# Third project PSS\n",
    "\n",
    "## Ghadamiyan Lida"
   ]
  },
  {
   "cell_type": "markdown",
   "id": "be6efa74",
   "metadata": {},
   "source": [
    "Hill Climbing - this algorithm selects the neighbour with the highest value to be expanded next"
   ]
  },
  {
   "cell_type": "code",
   "execution_count": 1,
   "id": "3d4c38e2",
   "metadata": {},
   "outputs": [
    {
     "name": "stderr",
     "output_type": "stream",
     "text": [
      "e:\\anaconda\\lib\\site-packages\\numpy\\_distributor_init.py:30: UserWarning: loaded more than 1 DLL from .libs:\n",
      "e:\\anaconda\\lib\\site-packages\\numpy\\.libs\\libopenblas.WCDJNK7YVMPZQ2ME2ZZHJJRJ3JIKNDB7.gfortran-win_amd64.dll\n",
      "e:\\anaconda\\lib\\site-packages\\numpy\\.libs\\libopenblas.XWYDX2IKJW2NMTWSFYNGFUWKQU3LYTCZ.gfortran-win_amd64.dll\n",
      "  warnings.warn(\"loaded more than 1 DLL from .libs:\"\n"
     ]
    }
   ],
   "source": [
    "import networkx as nx  \n",
    "from algorithmx import jupyter_canvas\n",
    "from queue import PriorityQueue"
   ]
  },
  {
   "cell_type": "code",
   "execution_count": 2,
   "id": "3a079f8c",
   "metadata": {},
   "outputs": [
    {
     "data": {
      "application/vnd.jupyter.widget-view+json": {
       "model_id": "008ef5d14f9847809acaeb2f0749d5b4",
       "version_major": 2,
       "version_minor": 0
      },
      "text/plain": [
       "JupyterWidget(events=['{\"attrs\": {\"nodes\": {\"1\": {}, \"2\": {}, \"3\": {}, \"4\": {}, \"5\": {}, \"6\": {}, \"7\": {}, \"8\"…"
      ]
     },
     "metadata": {},
     "output_type": "display_data"
    }
   ],
   "source": [
    "#edgelist = [(1, 2), (1, 3), (2, 4), (2, 5), (3, 5), (3, 6), (4, 7), (5, 8), (6, 9), (4, 5), (5, 6)]\n",
    "edgelist = [(1, 2), (1, 3), (2, 4), (2, 5), (3, 5), (3, 6), (4, 7), (5, 8), (6, 7), (4, 5), (5, 6)]\n",
    "G = nx.Graph(edgelist)\n",
    "\n",
    "canvas = jupyter_canvas()\n",
    "canvas.nodes(G.nodes).add()\n",
    "canvas.edges(G.edges).add()\n",
    "\n",
    "canvas"
   ]
  },
  {
   "cell_type": "markdown",
   "id": "da729b90",
   "metadata": {},
   "source": [
    "For local maxima"
   ]
  },
  {
   "cell_type": "code",
   "execution_count": 3,
   "id": "1df8af29",
   "metadata": {},
   "outputs": [],
   "source": [
    "def hill_climbing(G, start):\n",
    "    \n",
    "    sol = []\n",
    "    queue = []\n",
    "    queue.append(start)\n",
    "    max_ = 0\n",
    "    \n",
    "    while queue:\n",
    "        m = max(queue) #get biggest value\n",
    "        if max_ < m:\n",
    "            max_ = m\n",
    "            queue = []\n",
    "            \n",
    "        for n in G[m]:\n",
    "            if n > max_:\n",
    "                queue.append(n)\n",
    "                \n",
    "    return max_\n",
    "    "
   ]
  },
  {
   "cell_type": "code",
   "execution_count": 4,
   "id": "a0b72483",
   "metadata": {},
   "outputs": [
    {
     "data": {
      "text/plain": [
       "7"
      ]
     },
     "execution_count": 4,
     "metadata": {},
     "output_type": "execute_result"
    }
   ],
   "source": [
    "hill_climbing(G, 1)"
   ]
  },
  {
   "cell_type": "markdown",
   "id": "64a9de96",
   "metadata": {},
   "source": [
    "For global maxima"
   ]
  },
  {
   "cell_type": "code",
   "execution_count": 5,
   "id": "efa51346",
   "metadata": {},
   "outputs": [],
   "source": [
    "def hill_climbing(G, start):\n",
    "    \n",
    "    sol = []\n",
    "    queue = []\n",
    "    queue.append(start)\n",
    "    max_ = 0\n",
    "    \n",
    "    while queue:\n",
    "        m = max(queue) #get biggest value\n",
    "        queue.remove(m)\n",
    "        if max_ < m:\n",
    "            max_ = m\n",
    "            \n",
    "        for n in G[m]:\n",
    "            if n > max_:\n",
    "                queue.append(n)\n",
    "                \n",
    "    return max_\n",
    "    "
   ]
  },
  {
   "cell_type": "code",
   "execution_count": 6,
   "id": "8bdde597",
   "metadata": {},
   "outputs": [
    {
     "data": {
      "text/plain": [
       "8"
      ]
     },
     "execution_count": 6,
     "metadata": {},
     "output_type": "execute_result"
    }
   ],
   "source": [
    "hill_climbing(G, 1)"
   ]
  },
  {
   "cell_type": "code",
   "execution_count": null,
   "id": "1ee552ae",
   "metadata": {},
   "outputs": [],
   "source": []
  },
  {
   "cell_type": "code",
   "execution_count": null,
   "id": "43388363",
   "metadata": {},
   "outputs": [],
   "source": []
  }
 ],
 "metadata": {
  "kernelspec": {
   "display_name": "Python 3 (ipykernel)",
   "language": "python",
   "name": "python3"
  },
  "language_info": {
   "codemirror_mode": {
    "name": "ipython",
    "version": 3
   },
   "file_extension": ".py",
   "mimetype": "text/x-python",
   "name": "python",
   "nbconvert_exporter": "python",
   "pygments_lexer": "ipython3",
   "version": "3.8.8"
  }
 },
 "nbformat": 4,
 "nbformat_minor": 5
}
