{
 "cells": [
  {
   "cell_type": "markdown",
   "id": "ca1922d7",
   "metadata": {},
   "source": [
    "# Second projet PSS \n",
    "\n",
    "## Ghadamiyan Lida"
   ]
  },
  {
   "cell_type": "markdown",
   "id": "5bef7e8c",
   "metadata": {},
   "source": [
    "This project consists in the implementation of the best first search agorithm."
   ]
  },
  {
   "cell_type": "code",
   "execution_count": 1,
   "id": "9b63c998",
   "metadata": {},
   "outputs": [
    {
     "name": "stderr",
     "output_type": "stream",
     "text": [
      "e:\\anaconda\\lib\\site-packages\\numpy\\_distributor_init.py:30: UserWarning: loaded more than 1 DLL from .libs:\n",
      "e:\\anaconda\\lib\\site-packages\\numpy\\.libs\\libopenblas.WCDJNK7YVMPZQ2ME2ZZHJJRJ3JIKNDB7.gfortran-win_amd64.dll\n",
      "e:\\anaconda\\lib\\site-packages\\numpy\\.libs\\libopenblas.XWYDX2IKJW2NMTWSFYNGFUWKQU3LYTCZ.gfortran-win_amd64.dll\n",
      "  warnings.warn(\"loaded more than 1 DLL from .libs:\"\n"
     ]
    }
   ],
   "source": [
    "import networkx as nx  \n",
    "from algorithmx import jupyter_canvas\n",
    "from queue import PriorityQueue"
   ]
  },
  {
   "cell_type": "code",
   "execution_count": 2,
   "id": "b85f3edf",
   "metadata": {},
   "outputs": [
    {
     "data": {
      "application/vnd.jupyter.widget-view+json": {
       "model_id": "395943d5dba142a8a33dfc9b2d3e816c",
       "version_major": 2,
       "version_minor": 0
      },
      "text/plain": [
       "JupyterWidget(events=['{\"attrs\": {\"nodes\": {\"1\": {}, \"2\": {}, \"5\": {}, \"7\": {}, \"3\": {}, \"4\": {}, \"9\": {}, \"6\"…"
      ]
     },
     "metadata": {},
     "output_type": "display_data"
    }
   ],
   "source": [
    "from algorithmx import jupyter_canvas\n",
    "\n",
    "G = nx.Graph()\n",
    "G.add_weighted_edges_from([(1, 2, 2), (1, 5, 4), (1, 7, 5), (2, 3, 10), (2, 4, 10), (3, 9, 10), (4, 9, 10), (5, 6, 5), (7, 8, 4), (6, 9, 4), (8, 9, 6)])\n",
    "\n",
    "\n",
    "\n",
    "canvas = jupyter_canvas()\n",
    "canvas.nodes(G.nodes).add()\n",
    "canvas.edges(G.edges).add() \\\n",
    "    .label().add() \\\n",
    "        .text(lambda e: G.edges[e]['weight'])\n",
    "\n",
    "canvas"
   ]
  },
  {
   "cell_type": "code",
   "execution_count": 3,
   "id": "48602342",
   "metadata": {},
   "outputs": [],
   "source": [
    "def BestFS(start, scop):\n",
    "    \n",
    "    visited = [start]\n",
    "    sol = []\n",
    "    \n",
    "    queue = PriorityQueue()           # priority queue which store the info based on value\n",
    "    queue.put((0, start))\n",
    "    \n",
    "    while queue: \n",
    "        m = queue.get()[1]        # get the neighbour with the lowest cost\n",
    "        sol.append(m)\n",
    "        \n",
    "        if m == scop:             # stopping condition\n",
    "            return str(sol)\n",
    "             \n",
    "        for n in G[m]:              \n",
    "            if n not in visited:          # if a neighbour is not visited, expand it\n",
    "                visited.append(n)\n",
    "                queue.put((G[m][n]['weight'], n))"
   ]
  },
  {
   "cell_type": "code",
   "execution_count": 4,
   "id": "1229cd80",
   "metadata": {},
   "outputs": [
    {
     "data": {
      "text/plain": [
       "'[1, 2, 5, 6, 9]'"
      ]
     },
     "execution_count": 4,
     "metadata": {},
     "output_type": "execute_result"
    }
   ],
   "source": [
    "BestFS(1, 9)"
   ]
  },
  {
   "cell_type": "markdown",
   "id": "d049ab6d",
   "metadata": {},
   "source": [
    "Now we introduce a parent tree in order to find the path"
   ]
  },
  {
   "cell_type": "code",
   "execution_count": 5,
   "id": "44924c21",
   "metadata": {},
   "outputs": [],
   "source": [
    "def BestFS(start, scop, graph):\n",
    "    visited = [start]\n",
    "    parent = [None]*len(G.nodes())   # here we add the parent list\n",
    " \n",
    "    queue = PriorityQueue()\n",
    "    queue.put((0, start))\n",
    " \n",
    "    while queue:\n",
    "        m = queue.get()[1]\n",
    "        \n",
    "        if m == scop:\n",
    "            return parent\n",
    "        \n",
    "        for n in G[m]:\n",
    "            if n not in visited:\n",
    "                parent[n-1] = m          # get the parent\n",
    "                visited.append(n)\n",
    "                queue.put((G[m][n]['weight'], n))\n",
    "                \n",
    "\n",
    "                \n",
    "def find_path(start, stop, parent):\n",
    "    sol = [stop]\n",
    "    curr = stop                       # get the path\n",
    "    \n",
    "    while curr and curr != start:\n",
    "        curr = parent[curr-1]\n",
    "        sol.append(curr)\n",
    "    return reversed(sol)\n",
    " \n",
    "def solve(graph, start, stop):\n",
    "    parent = BestFS(start, stop, graph)\n",
    "    return find_path(start, stop, parent)"
   ]
  },
  {
   "cell_type": "code",
   "execution_count": 6,
   "id": "171e7188",
   "metadata": {},
   "outputs": [],
   "source": [
    "s = solve(G, 1, 9)"
   ]
  },
  {
   "cell_type": "code",
   "execution_count": 7,
   "id": "73409090",
   "metadata": {},
   "outputs": [
    {
     "name": "stdout",
     "output_type": "stream",
     "text": [
      "1\n",
      "5\n",
      "6\n",
      "9\n"
     ]
    }
   ],
   "source": [
    "for elem in s:\n",
    "    print(elem)"
   ]
  },
  {
   "cell_type": "code",
   "execution_count": null,
   "id": "09135bb6",
   "metadata": {},
   "outputs": [],
   "source": []
  },
  {
   "cell_type": "code",
   "execution_count": null,
   "id": "08f2a46b",
   "metadata": {},
   "outputs": [],
   "source": []
  },
  {
   "cell_type": "code",
   "execution_count": 8,
   "id": "cfbdcd0e",
   "metadata": {},
   "outputs": [
    {
     "data": {
      "text/plain": [
       "9"
      ]
     },
     "execution_count": 8,
     "metadata": {},
     "output_type": "execute_result"
    }
   ],
   "source": [
    "G[1][5]['weight']+G[1][7]['weight']"
   ]
  }
 ],
 "metadata": {
  "kernelspec": {
   "display_name": "Python 3 (ipykernel)",
   "language": "python",
   "name": "python3"
  },
  "language_info": {
   "codemirror_mode": {
    "name": "ipython",
    "version": 3
   },
   "file_extension": ".py",
   "mimetype": "text/x-python",
   "name": "python",
   "nbconvert_exporter": "python",
   "pygments_lexer": "ipython3",
   "version": "3.8.8"
  }
 },
 "nbformat": 4,
 "nbformat_minor": 5
}
