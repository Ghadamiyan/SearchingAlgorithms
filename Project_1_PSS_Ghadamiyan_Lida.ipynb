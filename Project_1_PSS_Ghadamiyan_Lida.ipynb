{
 "cells": [
  {
   "cell_type": "markdown",
   "id": "6d92eb62",
   "metadata": {},
   "source": [
    "# First project Problem Solving and Searching\n",
    "\n",
    "### Ghadamiyan Lida 407"
   ]
  },
  {
   "cell_type": "markdown",
   "id": "88f78138",
   "metadata": {},
   "source": [
    "This project consists in implementing two uninformed search alorithms. For this, I chose to show DFS and BFS."
   ]
  },
  {
   "cell_type": "markdown",
   "id": "35d83d68",
   "metadata": {},
   "source": [
    "## Graph definition\n",
    "\n",
    "The graph is generated using the networkx library which helps constructing a graph with given nodes and edges."
   ]
  },
  {
   "cell_type": "code",
   "execution_count": 1,
   "id": "e98d7539",
   "metadata": {},
   "outputs": [
    {
     "name": "stderr",
     "output_type": "stream",
     "text": [
      "e:\\anaconda\\lib\\site-packages\\numpy\\_distributor_init.py:30: UserWarning: loaded more than 1 DLL from .libs:\n",
      "e:\\anaconda\\lib\\site-packages\\numpy\\.libs\\libopenblas.WCDJNK7YVMPZQ2ME2ZZHJJRJ3JIKNDB7.gfortran-win_amd64.dll\n",
      "e:\\anaconda\\lib\\site-packages\\numpy\\.libs\\libopenblas.XWYDX2IKJW2NMTWSFYNGFUWKQU3LYTCZ.gfortran-win_amd64.dll\n",
      "  warnings.warn(\"loaded more than 1 DLL from .libs:\"\n"
     ]
    }
   ],
   "source": [
    "import networkx as nx  \n",
    "from algorithmx import jupyter_canvas   # for the interactive graph"
   ]
  },
  {
   "cell_type": "code",
   "execution_count": 2,
   "id": "b757c978",
   "metadata": {},
   "outputs": [
    {
     "data": {
      "text/plain": [
       "<algorithmx.api.EdgeSelection.EdgeSelection at 0x2563ef60d60>"
      ]
     },
     "execution_count": 2,
     "metadata": {},
     "output_type": "execute_result"
    }
   ],
   "source": [
    "edgelist = [(1, 2), (1, 3), (2, 4), (2, 5), (3, 5), (3, 6), (4, 7), (5, 8), (6, 9), (4, 5), (5, 6)]\n",
    "G = nx.Graph(edgelist)\n",
    "\n",
    "canvas = jupyter_canvas()\n",
    "canvas.nodes(G.nodes).add()\n",
    "canvas.edges(G.edges).add()\n",
    "\n",
    "#canvas"
   ]
  },
  {
   "cell_type": "code",
   "execution_count": 3,
   "id": "2b0bc5da",
   "metadata": {},
   "outputs": [
    {
     "data": {
      "application/vnd.jupyter.widget-view+json": {
       "model_id": "91f05b18bc4540aa8c2e71e496250ebb",
       "version_major": 2,
       "version_minor": 0
      },
      "text/plain": [
       "JupyterWidget(events=['{\"attrs\": {\"nodes\": {\"1\": {}, \"2\": {}, \"3\": {}, \"4\": {}, \"5\": {}, \"6\": {}, \"7\": {}, \"8\"…"
      ]
     },
     "metadata": {},
     "output_type": "display_data"
    }
   ],
   "source": [
    "edgelist = [(1, 2), (1, 3), (3, 4), (3, 5), (2, 5), (2, 6), (4, 7), (5, 8), (6, 9), (4, 5), (5, 6)]\n",
    "H = nx.Graph(edgelist)\n",
    "\n",
    "canvas = jupyter_canvas()\n",
    "canvas.nodes(H.nodes).add()\n",
    "canvas.edges(H.edges).add()\n",
    "\n",
    "canvas"
   ]
  },
  {
   "cell_type": "markdown",
   "id": "7d81e27d",
   "metadata": {},
   "source": [
    "## DFS - depth first search\n",
    "\n",
    "The purpose of this algorithm is to find reach a scope node starting from a selected node by exploring the graph \"in depth\" which refers to selecting and expanding the first neighbour."
   ]
  },
  {
   "cell_type": "code",
   "execution_count": 4,
   "id": "4b5bdaba",
   "metadata": {},
   "outputs": [],
   "source": [
    "def DFS(sol, visited, G, node, scope):\n",
    "    \n",
    "    if node == scope:           # stopping condition\n",
    "        sol.append(node)\n",
    "        print(sol)\n",
    "    \n",
    "    if node not in visited:     # if we have an unvisited node we expand it \n",
    "        sol.append(node)\n",
    "        visited.add(node)\n",
    "    \n",
    "        for n in G[node]:                   # recursivelly apply the algorithm on the node's  neighbours\n",
    "            DFS(sol, visited, G, n, scope)    # such that we will expand the next found node, thus having a dfs"
   ]
  },
  {
   "cell_type": "code",
   "execution_count": 5,
   "id": "78719c6d",
   "metadata": {},
   "outputs": [
    {
     "name": "stdout",
     "output_type": "stream",
     "text": [
      "[1, 2, 5, 3, 4, 7]\n"
     ]
    }
   ],
   "source": [
    "DFS([], set(), H, 1, 7)"
   ]
  },
  {
   "cell_type": "markdown",
   "id": "d86f9d60",
   "metadata": {},
   "source": [
    "## BFS - Breadth First Search\n",
    "\n",
    "The purpose of this algorithm is to find reach a scope node starting from a selected node by exploring the graph \"in breadth\" which refers to selecting and expanding the neighbours in ."
   ]
  },
  {
   "cell_type": "code",
   "execution_count": 6,
   "id": "700de354",
   "metadata": {},
   "outputs": [],
   "source": [
    "#queue = []\n",
    "\n",
    "def BFS(sol, visited, G, node, scop):\n",
    "    \n",
    "    queue = []\n",
    "    visited.append(node)        \n",
    "    queue.append(node)\n",
    "    \n",
    "    while queue:              # we create a queue containing the nodes to be expand\n",
    "        m = queue.pop(0)\n",
    "        sol.append(m)\n",
    "        \n",
    "        if m == scop:        # stopping condition\n",
    "            return str(sol)\n",
    "        \n",
    "        for n in G[m]:              # for each new neighbour we put them in the queue so we will visit the \n",
    "            if n not in visited:      # siblings before the children\n",
    "                visited.append(n)\n",
    "                queue.append(n)"
   ]
  },
  {
   "cell_type": "code",
   "execution_count": 7,
   "id": "e643041a",
   "metadata": {},
   "outputs": [
    {
     "data": {
      "text/plain": [
       "'[1, 2, 3, 5, 6, 4, 8, 9, 7]'"
      ]
     },
     "execution_count": 7,
     "metadata": {},
     "output_type": "execute_result"
    }
   ],
   "source": [
    "BFS([], [], H, 1, 7)"
   ]
  },
  {
   "cell_type": "code",
   "execution_count": null,
   "id": "585c964e",
   "metadata": {},
   "outputs": [],
   "source": []
  }
 ],
 "metadata": {
  "kernelspec": {
   "display_name": "Python 3 (ipykernel)",
   "language": "python",
   "name": "python3"
  },
  "language_info": {
   "codemirror_mode": {
    "name": "ipython",
    "version": 3
   },
   "file_extension": ".py",
   "mimetype": "text/x-python",
   "name": "python",
   "nbconvert_exporter": "python",
   "pygments_lexer": "ipython3",
   "version": "3.8.8"
  }
 },
 "nbformat": 4,
 "nbformat_minor": 5
}
